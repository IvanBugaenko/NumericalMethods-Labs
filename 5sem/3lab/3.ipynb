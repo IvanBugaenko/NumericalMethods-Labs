{
 "cells": [
  {
   "cell_type": "code",
   "execution_count": 1,
   "metadata": {},
   "outputs": [],
   "source": [
    "import numpy as np"
   ]
  },
  {
   "cell_type": "code",
   "execution_count": 39,
   "metadata": {},
   "outputs": [],
   "source": [
    "A = np.array([\n",
    "    [1, -1, 2, -1],\n",
    "    [2, 0, 3, 1],\n",
    "    [1, 1, 3, -1],\n",
    "    [2, 1, 5, -2]\n",
    "])\n",
    "\n",
    "b = np.array([1, 4, 2, 3])"
   ]
  },
  {
   "cell_type": "markdown",
   "metadata": {},
   "source": [
    "# 1. Метод Гаусса"
   ]
  },
  {
   "cell_type": "code",
   "execution_count": 40,
   "metadata": {},
   "outputs": [],
   "source": [
    "def triangle_view(matrix: np.ndarray, eps: float = 1e-7) -> np.ndarray:\n",
    "    A = matrix.copy()\n",
    "    N = A.shape[0]\n",
    "    for i in range(N - 1):\n",
    "        if abs(A[i, i]) < eps: # если коэффициент - нуль\n",
    "            for k in range(i + 1, N):\n",
    "                if abs(A[k, i]) > eps:\n",
    "                    A[i], A[k] = A[k], A[i]\n",
    "                    break\n",
    "        for j in range(i + 1, N):\n",
    "            d = A[j, i] / A[i, i]\n",
    "            A[j] -= - d * A[i]\n",
    "    return A\n"
   ]
  },
  {
   "cell_type": "code",
   "execution_count": 45,
   "metadata": {},
   "outputs": [],
   "source": [
    "def get_roots(A: np.ndarray, b: np.ndarray) -> np.ndarray:\n",
    "    "
   ]
  },
  {
   "cell_type": "code",
   "execution_count": 47,
   "metadata": {},
   "outputs": [
    {
     "data": {
      "text/plain": [
       "(array([[ 1, -1,  2],\n",
       "        [ 2,  0,  3],\n",
       "        [ 1,  1,  3],\n",
       "        [ 2,  1,  5]]),\n",
       " array([-1,  1, -1, -2]))"
      ]
     },
     "execution_count": 47,
     "metadata": {},
     "output_type": "execute_result"
    }
   ],
   "source": [
    "def gauss_method(A: np.ndarray, b: np.ndarray, eps: float = 1e-7) -> np.ndarray:\n",
    "    forward_pass = triangle_view(np.c_[A, b], eps)\n",
    "    return get_roots(forward_pass[:, :-1], forward_pass[:, -1])\n",
    "\n",
    "gauss_method(A, b)"
   ]
  }
 ],
 "metadata": {
  "kernelspec": {
   "display_name": "venv",
   "language": "python",
   "name": "python3"
  },
  "language_info": {
   "codemirror_mode": {
    "name": "ipython",
    "version": 3
   },
   "file_extension": ".py",
   "mimetype": "text/x-python",
   "name": "python",
   "nbconvert_exporter": "python",
   "pygments_lexer": "ipython3",
   "version": "3.10.11"
  },
  "orig_nbformat": 4
 },
 "nbformat": 4,
 "nbformat_minor": 2
}
