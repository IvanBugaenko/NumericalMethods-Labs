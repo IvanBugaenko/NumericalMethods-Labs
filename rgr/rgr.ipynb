{
 "cells": [
  {
   "cell_type": "code",
   "execution_count": 60,
   "metadata": {},
   "outputs": [],
   "source": [
    "import numpy as np\n",
    "import scipy.stats as st\n",
    "import matplotlib.pyplot as plt"
   ]
  },
  {
   "cell_type": "markdown",
   "metadata": {},
   "source": [
    "## 1 задание"
   ]
  },
  {
   "cell_type": "code",
   "execution_count": 61,
   "metadata": {},
   "outputs": [],
   "source": [
    "AB = np.array([0, 1])\n",
    "CD = np.array([0, 2])\n",
    "EF = np.array([0, 3])"
   ]
  },
  {
   "cell_type": "code",
   "execution_count": 62,
   "metadata": {},
   "outputs": [],
   "source": [
    "N = 100000"
   ]
  },
  {
   "cell_type": "code",
   "execution_count": 63,
   "metadata": {},
   "outputs": [],
   "source": [
    "F = lambda x: np.prod(x)"
   ]
  },
  {
   "cell_type": "code",
   "execution_count": 64,
   "metadata": {},
   "outputs": [],
   "source": [
    "points = np.array(list(zip(\n",
    "    st.uniform.rvs(AB[0], AB[1] - AB[0], N),\n",
    "    st.uniform.rvs(CD[0], CD[1] - CD[0], N),\n",
    "    st.uniform.rvs(EF[0], EF[1] - EF[0], N)\n",
    ")))"
   ]
  },
  {
   "cell_type": "code",
   "execution_count": 65,
   "metadata": {},
   "outputs": [
    {
     "data": {
      "text/plain": [
       "(100000,)"
      ]
     },
     "execution_count": 65,
     "metadata": {},
     "output_type": "execute_result"
    }
   ],
   "source": [
    "np.array([F(point) for point in points]).shape"
   ]
  },
  {
   "cell_type": "code",
   "execution_count": 66,
   "metadata": {},
   "outputs": [],
   "source": [
    "I = (((AB[1] - AB[0])*(CD[1] - CD[0])*(EF[1] - EF[0]))/N) * np.sum(\n",
    "    np.array([F(point) for point in points])\n",
    ")"
   ]
  },
  {
   "cell_type": "code",
   "execution_count": 67,
   "metadata": {},
   "outputs": [
    {
     "data": {
      "text/plain": [
       "4.510915174158576"
      ]
     },
     "execution_count": 67,
     "metadata": {},
     "output_type": "execute_result"
    }
   ],
   "source": [
    "I"
   ]
  },
  {
   "cell_type": "markdown",
   "metadata": {},
   "source": [
    "## 2 задание"
   ]
  },
  {
   "cell_type": "code",
   "execution_count": 366,
   "metadata": {},
   "outputs": [],
   "source": [
    "n = 2\n",
    "A = np.array([\n",
    "    [0.7, 0.2],\n",
    "    [0.1, 0.3]\n",
    "])\n",
    "B = np.array([0.1, 0.3])\n",
    "P = np.abs(A) / np.sum(np.abs(A), axis=1).reshape(n, -1)\n",
    "N = 10000\n"
   ]
  },
  {
   "cell_type": "code",
   "execution_count": 367,
   "metadata": {},
   "outputs": [],
   "source": [
    "res = []\n",
    "for i in range(n):\n",
    "    x = 0\n",
    "    w = 1\n",
    "    index = i\n",
    "    x += w * B[index]\n",
    "    for k in range(N):\n",
    "        chi = np.random.uniform(0, 1)\n",
    "        j = 0\n",
    "        while chi > np.sum(P[index, :j+1]):\n",
    "            j += 1\n",
    "        w *= np.sign(A[index, j]) * np.sum(np.abs(A)[index])\n",
    "        x += w * B[j]\n",
    "        index = j\n",
    "    res.append(x)\n",
    "res = np.array(res)"
   ]
  },
  {
   "cell_type": "code",
   "execution_count": 368,
   "metadata": {},
   "outputs": [
    {
     "data": {
      "text/plain": [
       "array([0.84005848, 0.50620655])"
      ]
     },
     "execution_count": 368,
     "metadata": {},
     "output_type": "execute_result"
    }
   ],
   "source": [
    "res"
   ]
  },
  {
   "cell_type": "code",
   "execution_count": 369,
   "metadata": {},
   "outputs": [
    {
     "data": {
      "text/plain": [
       "array([ 0.05077623, -0.02966126])"
      ]
     },
     "execution_count": 369,
     "metadata": {},
     "output_type": "execute_result"
    }
   ],
   "source": [
    "res - (A @ res + B)"
   ]
  },
  {
   "cell_type": "markdown",
   "metadata": {},
   "source": [
    "## 3 задание"
   ]
  },
  {
   "cell_type": "code",
   "execution_count": 248,
   "metadata": {},
   "outputs": [],
   "source": [
    "bounds = [\n",
    "    lambda x: 2 * x[0] ** 2 + x[1] ** 3 - 2,\n",
    "    lambda x: x[0] + x[1] - 1,\n",
    "    lambda x: x[0] - 2,\n",
    "    lambda x: -x[0] - 2,\n",
    "    lambda x: x[1] - 2,\n",
    "    lambda x: -x[1] - 2,\n",
    "]\n",
    "AB = np.array([-2, 2])\n",
    "CD = np.array([-2, -1 + np.sqrt(5)])\n",
    "N = 1000000"
   ]
  },
  {
   "cell_type": "code",
   "execution_count": 249,
   "metadata": {},
   "outputs": [],
   "source": [
    "def check(point: np.ndarray, bounds):\n",
    "    return all([f(point) <= 0 for f in bounds])"
   ]
  },
  {
   "cell_type": "code",
   "execution_count": 251,
   "metadata": {},
   "outputs": [],
   "source": [
    "points = np.array(list(zip(\n",
    "    st.uniform.rvs(AB[0], AB[1] - AB[0], N),\n",
    "    st.uniform.rvs(CD[0], CD[1] - CD[0], N),\n",
    ")))"
   ]
  },
  {
   "cell_type": "code",
   "execution_count": 252,
   "metadata": {},
   "outputs": [],
   "source": [
    "def square(bounds: list, AB: np.ndarray, CD: np.ndarray, N: int) -> float:\n",
    "    return (np.sum([check(point, bounds) for point in points])) * (AB[1] - AB[0]) * (CD[1] - CD[0]) / N"
   ]
  },
  {
   "cell_type": "code",
   "execution_count": 253,
   "metadata": {},
   "outputs": [
    {
     "data": {
      "text/plain": [
       "6.949481870224618"
      ]
     },
     "execution_count": 253,
     "metadata": {},
     "output_type": "execute_result"
    }
   ],
   "source": [
    "square(bounds, AB, CD, N)"
   ]
  },
  {
   "cell_type": "code",
   "execution_count": 291,
   "metadata": {},
   "outputs": [
    {
     "data": {
      "text/plain": [
       "array([[0.12903226, 0.58064516, 0.29032258],\n",
       "       [0.27272727, 0.18181818, 0.54545455],\n",
       "       [0.28125   , 0.5625    , 0.15625   ]])"
      ]
     },
     "execution_count": 291,
     "metadata": {},
     "output_type": "execute_result"
    }
   ],
   "source": [
    "H = np.array([\n",
    "    [0.1, 0.45, 0.225],\n",
    "    [-0.15, 0.1, -0.3],\n",
    "    [-0.18, 0.36, 0.1]\n",
    "])\n",
    "np.abs(H) / np.sum(np.abs(H), axis=1).reshape(3, -1)"
   ]
  }
 ],
 "metadata": {
  "kernelspec": {
   "display_name": "venv",
   "language": "python",
   "name": "python3"
  },
  "language_info": {
   "codemirror_mode": {
    "name": "ipython",
    "version": 3
   },
   "file_extension": ".py",
   "mimetype": "text/x-python",
   "name": "python",
   "nbconvert_exporter": "python",
   "pygments_lexer": "ipython3",
   "version": "3.10.11"
  }
 },
 "nbformat": 4,
 "nbformat_minor": 2
}
