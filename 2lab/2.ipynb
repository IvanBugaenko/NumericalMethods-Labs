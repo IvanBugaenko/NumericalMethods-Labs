{
 "cells": [
  {
   "cell_type": "code",
   "execution_count": 1,
   "metadata": {},
   "outputs": [],
   "source": [
    "from pathlib import Path\n",
    "import os\n",
    "import sys\n",
    "\n",
    "sys.path.append(str(Path(os.getcwd()).parent))"
   ]
  },
  {
   "cell_type": "code",
   "execution_count": 2,
   "metadata": {},
   "outputs": [],
   "source": [
    "import numpy as np\n",
    "from  scipy.optimize import minimize, Bounds"
   ]
  },
  {
   "cell_type": "code",
   "execution_count": 3,
   "metadata": {},
   "outputs": [],
   "source": [
    "def f(x: np.array) -> float:\n",
    "    return 20 - (x[0] - 1) * np.exp(1 - x[0]) - (x[1] - 2) * np.exp(2 - x[0])"
   ]
  },
  {
   "cell_type": "code",
   "execution_count": 4,
   "metadata": {},
   "outputs": [],
   "source": [
    "def f_1d(x: np.array, s: np.array) -> float:\n",
    "\n",
    "    def f_alpha(alpha: float) -> float:\n",
    "        return 20 - (x[0] + alpha * s[0] - 1) * np.exp(1 - x[0] - alpha * s[0]) - (x[1] + alpha * s[1] - 2) * np.exp(2 - x[0] - alpha * s[0])\n",
    "    \n",
    "    return minimize(f_alpha).x[0]"
   ]
  },
  {
   "cell_type": "code",
   "execution_count": 5,
   "metadata": {},
   "outputs": [
    {
     "name": "stdout",
     "output_type": "stream",
     "text": [
      "[7.43455663e+00 8.75706331e+18]\n"
     ]
    }
   ],
   "source": [
    "# Циклический покоординатный спуск\n",
    "\n",
    "def cyclic_coordinate_descent(x: np.array, eps: float, S: np.ndarray) -> np.array:\n",
    "\n",
    "    alphas = []\n",
    "\n",
    "    x_1 = x\n",
    "\n",
    "    while True:\n",
    "        y_1: np.array = x_1\n",
    "\n",
    "        for s in S:\n",
    "            alpha = f_1d(y_1, s)\n",
    "            y_1 = y_1 + s * alpha\n",
    "            alphas.append(alpha)\n",
    "\n",
    "        if np.linalg.norm(x_1 - y_1) <= eps:\n",
    "            return y_1, np.array(alphas)\n",
    "        \n",
    "        x_1 = y_1\n",
    "\n",
    "\n",
    "print(cyclic_coordinate_descent(\n",
    "    np.array([0, 0]), 0.1, np.array([[1, 0], [0, 1]])\n",
    "    )\n",
    ")"
   ]
  },
  {
   "cell_type": "code",
   "execution_count": 6,
   "metadata": {},
   "outputs": [],
   "source": [
    "def gradient(x: np.array) -> np.array:\n",
    "    df_dx = -2 * np.exp(1 - x[0]) + x[0] * np.exp(1 - x[0]) + x[1] * np.exp(2 - x[0]) - 2 * np.exp(2 - x[0])\n",
    "    df_dy = - np.exp(2 - x[0])\n",
    "    return(np.array([df_dx, df_dy]))"
   ]
  },
  {
   "cell_type": "code",
   "execution_count": 11,
   "metadata": {},
   "outputs": [
    {
     "name": "stderr",
     "output_type": "stream",
     "text": [
      "C:\\Users\\bugae\\AppData\\Local\\Temp\\ipykernel_13772\\1198427084.py:4: RuntimeWarning: overflow encountered in exp\n",
      "  return 20 - (x[0] + alpha * s[0] - 1) * np.exp(1 - x[0] - alpha * s[0]) - (x[1] + alpha * s[1] - 2) * np.exp(2 - x[0] - alpha * s[0])\n",
      "C:\\Users\\bugae\\AppData\\Local\\Temp\\ipykernel_13772\\1198427084.py:4: RuntimeWarning: invalid value encountered in subtract\n",
      "  return 20 - (x[0] + alpha * s[0] - 1) * np.exp(1 - x[0] - alpha * s[0]) - (x[1] + alpha * s[1] - 2) * np.exp(2 - x[0] - alpha * s[0])\n",
      "C:\\Users\\bugae\\AppData\\Local\\Temp\\ipykernel_13772\\4082142196.py:2: RuntimeWarning: overflow encountered in exp\n",
      "  df_dx = -2 * np.exp(1 - x[0]) + x[0] * np.exp(1 - x[0]) + x[1] * np.exp(2 - x[0]) - 2 * np.exp(2 - x[0])\n",
      "C:\\Users\\bugae\\AppData\\Local\\Temp\\ipykernel_13772\\4082142196.py:2: RuntimeWarning: invalid value encountered in scalar add\n",
      "  df_dx = -2 * np.exp(1 - x[0]) + x[0] * np.exp(1 - x[0]) + x[1] * np.exp(2 - x[0]) - 2 * np.exp(2 - x[0])\n",
      "C:\\Users\\bugae\\AppData\\Local\\Temp\\ipykernel_13772\\4082142196.py:3: RuntimeWarning: overflow encountered in exp\n",
      "  df_dy = - np.exp(2 - x[0])\n"
     ]
    },
    {
     "name": "stdout",
     "output_type": "stream",
     "text": [
      "[nan nan]\n"
     ]
    }
   ],
   "source": [
    "# Наискорейший спуск\n",
    "def steepest_descent(x: np.array, eps: float) -> np.array:\n",
    "    x_1 = x\n",
    "    i = 1\n",
    "    while True:\n",
    "        if np.abs(np.linalg.norm(gradient(x_1))) <= eps or i >= 10000:\n",
    "            return x_1\n",
    "        \n",
    "        x_1 = x_1 - gradient(x_1) * f_1d(x_1, -gradient(x_1))\n",
    "        i += 1\n",
    "\n",
    "\n",
    "print(steepest_descent(np.array([1, 1]), 0.1))"
   ]
  },
  {
   "cell_type": "code",
   "execution_count": 8,
   "metadata": {},
   "outputs": [
    {
     "name": "stdout",
     "output_type": "stream",
     "text": [
      "f([9.99999964e-01 1.17788638e+18]) = -3.2018272592889667e+18\n"
     ]
    }
   ],
   "source": [
    "# Метод Хука и Дживса\n",
    "\n",
    "def hooke_jeeves(x: np.array, eps: float) -> np.array:\n",
    "    S = np.array([[1, 0], [0, 1]])\n",
    "\n",
    "    x_1 = x\n",
    "\n",
    "    while True:\n",
    "        y_1: np.array = x_1\n",
    "\n",
    "        for s in S:\n",
    "            y_1 = y_1 + s * f_1d(y_1, s)\n",
    "\n",
    "        speed = y_1 - x_1\n",
    "\n",
    "        new = x_1 + speed * f_1d(x_1, speed)\n",
    "\n",
    "        if np.linalg.norm(x_1 - new) <= eps:\n",
    "            return new\n",
    "        \n",
    "        x_1 = new\n",
    "\n",
    "\n",
    "a = hooke_jeeves(np.array([0, 0]), 0.1)\n",
    "print(f\"f({a}) = {f(a)}\")"
   ]
  },
  {
   "cell_type": "code",
   "execution_count": 9,
   "metadata": {},
   "outputs": [],
   "source": [
    "# метод Розенброка\n",
    "\n",
    "n = 2\n",
    "\n",
    "def rosenbrock(x: np.ndarray, eps: float, S: np.ndarray) -> np.ndarray:\n",
    "    orthogonal_vectors = S\n",
    "\n",
    "    x_1 = x\n",
    "\n",
    "    while True:\n",
    "        res = cyclic_coordinate_descent(x_1, eps, orthogonal_vectors)\n",
    "        x_2 = res[0]\n",
    "        alphas = res[1]\n",
    "\n",
    "        z = np.zeros(n)\n",
    "        g = np.zeros(n)\n",
    "\n",
    "        for j in range(n):\n",
    "            if abs(alphas[j]) < 1e-7:\n",
    "                z[j] = orthogonal_vectors[j]\n",
    "            else:\n",
    "                v = np.zeros(0)\n",
    "                \n",
    "\n",
    "\n",
    "        if np.linalg.norm(x_1 - x_2) <= eps:\n",
    "            return x_2\n",
    "        \n",
    "        \n",
    "        \n",
    "        "
   ]
  }
 ],
 "metadata": {
  "kernelspec": {
   "display_name": "venv",
   "language": "python",
   "name": "python3"
  },
  "language_info": {
   "codemirror_mode": {
    "name": "ipython",
    "version": 3
   },
   "file_extension": ".py",
   "mimetype": "text/x-python",
   "name": "python",
   "nbconvert_exporter": "python",
   "pygments_lexer": "ipython3",
   "version": "3.10.10"
  },
  "orig_nbformat": 4,
  "vscode": {
   "interpreter": {
    "hash": "d60bdb3ca83555117e006482d4e580906152f22af13030ba0ea6bafe32ad4cef"
   }
  }
 },
 "nbformat": 4,
 "nbformat_minor": 2
}
