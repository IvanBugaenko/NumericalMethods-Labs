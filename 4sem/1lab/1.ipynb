{
 "cells": [
  {
   "cell_type": "code",
   "execution_count": 1,
   "metadata": {},
   "outputs": [],
   "source": [
    "from pathlib import Path\n",
    "import os\n",
    "import sys\n",
    "\n",
    "sys.path.append(str(Path(os.getcwd()).parent))"
   ]
  },
  {
   "cell_type": "code",
   "execution_count": 2,
   "metadata": {},
   "outputs": [],
   "source": [
    "import numpy as np\n",
    "from math import sqrt"
   ]
  },
  {
   "cell_type": "code",
   "execution_count": 3,
   "metadata": {},
   "outputs": [],
   "source": [
    "def f(x):\n",
    "    return np.sin(x)"
   ]
  },
  {
   "cell_type": "code",
   "execution_count": 4,
   "metadata": {},
   "outputs": [
    {
     "name": "stdout",
     "output_type": "stream",
     "text": [
      "x* = -1.6292794693094175\n",
      "f* = -0.9982903483944664\n"
     ]
    }
   ],
   "source": [
    "def dichotomy_method(a_0, b_0, eps):\n",
    "    a, b = a_0, b_0\n",
    "    while b - a > eps:\n",
    "        x = (a + b) / 2\n",
    "        x1, x2 = x - eps/2, x + eps/2\n",
    "        if f(x1) > f(x2):\n",
    "            a = x1\n",
    "        else:\n",
    "            b = x1\n",
    "\n",
    "    print(f'x* = {(a + b) / 2}\\nf* = {f((a + b) / 2)}')\n",
    "\n",
    "\n",
    "dichotomy_method(-np.pi, np.pi/2, 0.1)"
   ]
  },
  {
   "cell_type": "code",
   "execution_count": 5,
   "metadata": {},
   "outputs": [],
   "source": [
    "def sequence_generation(a, b, eps):\n",
    "        fib = [1, 1]\n",
    "        while (fib[-1] + fib[-2]) < (b - a) / eps:\n",
    "            fib.append(fib[-1] + fib[-2])\n",
    "        fib.append(fib[-1] + fib[-2])\n",
    "        return fib"
   ]
  },
  {
   "cell_type": "code",
   "execution_count": 6,
   "metadata": {},
   "outputs": [
    {
     "name": "stdout",
     "output_type": "stream",
     "text": [
      "x* = -1.599356260009349\n",
      "f* = -0.9995921928281892\n"
     ]
    }
   ],
   "source": [
    "def fibonacci_method(a0, b0, eps):\n",
    "    F = sequence_generation(a0, b0, eps)\n",
    "    n = len(F) - 1\n",
    "    a, b = a0, b0\n",
    "    while n > 2:\n",
    "        x1, x2 = a + F[n - 1] * (b - a) / F[n], b - F[n - 1] * (b - a) / F[n]\n",
    "        if f(x1) > f(x2):\n",
    "            b = x1\n",
    "            x1 = x2\n",
    "            x2 = b - F[n - 2] * (b - a) / F[n - 1]\n",
    "        else:\n",
    "            a = x2\n",
    "            x2 = x1\n",
    "            x1 = a + F[n - 2] * (b - a) / F[n - 1]\n",
    "        n -= 1\n",
    "\n",
    "    print(f'x* = {(a + b) / 2}\\nf* = {f((a + b) / 2)}')\n",
    "        \n",
    "\n",
    "fibonacci_method(-np.pi, np.pi/2, 0.1)"
   ]
  },
  {
   "cell_type": "code",
   "execution_count": 7,
   "metadata": {},
   "outputs": [
    {
     "name": "stdout",
     "output_type": "stream",
     "text": [
      "x* = -1.5848832536225543\n",
      "f* = -0.9999007808870582\n"
     ]
    }
   ],
   "source": [
    "def golden_section_method(a0, b0, eps):\n",
    "    tao = 3 - sqrt(5)\n",
    "    a, b = a0, b0\n",
    "    while b - a > eps:\n",
    "        x1, x2 = a + (b - a) * tao, b - (b - a) * tao\n",
    "        if f(x1) > f(x2):\n",
    "            b = x1\n",
    "            x1 = x2\n",
    "            x2 = b - (b - a) * tao\n",
    "        else:\n",
    "            a = x2\n",
    "            x2 = x1\n",
    "            x1 = a + (b - a) * tao\n",
    "    answer = sorted([(x1, f(x1)), (x2, f(x2))], key=lambda x: x[1])\n",
    "    print(f'x* = {answer[0][0]}\\nf* = {answer[0][1]}')\n",
    "\n",
    "\n",
    "golden_section_method(-np.pi, np.pi/2, 0.1)"
   ]
  },
  {
   "cell_type": "code",
   "execution_count": 8,
   "metadata": {},
   "outputs": [],
   "source": [
    "import matplotlib.pyplot as plt"
   ]
  },
  {
   "cell_type": "code",
   "execution_count": 21,
   "metadata": {},
   "outputs": [
    {
     "name": "stdout",
     "output_type": "stream",
     "text": [
      "500\n"
     ]
    },
    {
     "data": {
      "text/plain": [
       "[]"
      ]
     },
     "execution_count": 21,
     "metadata": {},
     "output_type": "execute_result"
    },
    {
     "data": {
      "image/png": "[encoded data removed]",
      "text/plain": [
       "<Figure size 640x480 with 1 Axes>"
      ]
     },
     "metadata": {},
     "output_type": "display_data"
    }
   ],
   "source": [
    "f = lambda x: 0 * x\n",
    "X = np.linspace(-np.pi, np.pi, num=500)\n",
    "print(len(X))\n",
    "Y = np.sin(X)\n",
    "plt.plot(X, Y)\n",
    "plt.plot(X, f(X), color='black')\n",
    "plt.plot()"
   ]
  },
  {
   "cell_type": "code",
   "execution_count": null,
   "metadata": {},
   "outputs": [],
   "source": [
    "def dichotomy_method(a_0, b_0, eps):\n",
    "    a, b = a_0, b_0\n",
    "    while b - a > eps:\n",
    "        x = (a + b) / 2\n",
    "        x1, x2 = x - eps/2, x + eps/2\n",
    "        if f(x1) > f(x2):\n",
    "            a = x1\n",
    "        else:\n",
    "            b = x1\n",
    "\n",
    "    print(f'x* = {(a + b) / 2}\\nf* = {f((a + b) / 2)}')\n",
    "\n",
    "\n",
    "dichotomy_method(-np.pi, np.pi/2, 0.1)"
   ]
  }
 ],
 "metadata": {
  "kernelspec": {
   "display_name": "venv",
   "language": "python",
   "name": "python3"
  },
  "language_info": {
   "codemirror_mode": {
    "name": "ipython",
    "version": 3
   },
   "file_extension": ".py",
   "mimetype": "text/x-python",
   "name": "python",
   "nbconvert_exporter": "python",
   "pygments_lexer": "ipython3",
   "version": "3.10.11"
  },
  "orig_nbformat": 4
 },
 "nbformat": 4,
 "nbformat_minor": 2
}
