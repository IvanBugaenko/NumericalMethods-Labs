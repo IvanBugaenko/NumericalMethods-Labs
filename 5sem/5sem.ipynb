{
 "cells": [
  {
   "cell_type": "code",
   "execution_count": 12,
   "metadata": {},
   "outputs": [],
   "source": [
    "from typing import Any\n",
    "import matplotlib.pyplot as plt\n",
    "import numpy as np\n",
    "from typing import Callable"
   ]
  },
  {
   "cell_type": "code",
   "execution_count": 13,
   "metadata": {},
   "outputs": [],
   "source": [
    "F = lambda x: x ** 3 - 2 * x + 2"
   ]
  },
  {
   "cell_type": "code",
   "execution_count": 14,
   "metadata": {},
   "outputs": [
    {
     "data": {
      "text/plain": [
       "[<matplotlib.lines.Line2D at 0x2a2c16202b0>]"
      ]
     },
     "execution_count": 14,
     "metadata": {},
     "output_type": "execute_result"
    },
    {
     "data": {
      "image/png": "[encoded data removed]",
      "text/plain": [
       "<Figure size 640x480 with 1 Axes>"
      ]
     },
     "metadata": {},
     "output_type": "display_data"
    }
   ],
   "source": [
    "X = np.linspace(-2, 2, 1000)\n",
    "Y = F(X)\n",
    "\n",
    "plt.plot(X, Y)\n",
    "plt.plot(X, 0 * X)"
   ]
  },
  {
   "cell_type": "code",
   "execution_count": 15,
   "metadata": {},
   "outputs": [],
   "source": [
    "eps = 0.01\n",
    "a = -2\n",
    "b = -1"
   ]
  },
  {
   "cell_type": "markdown",
   "metadata": {},
   "source": [
    "# Метод деления отрезка пополам"
   ]
  },
  {
   "cell_type": "code",
   "execution_count": 16,
   "metadata": {},
   "outputs": [
    {
     "name": "stdout",
     "output_type": "stream",
     "text": [
      "True\n"
     ]
    }
   ],
   "source": [
    "# Проверка корректности отрезка поиска для метода деления отрезка пополам\n",
    "print(F(a) * F(b) < 0)"
   ]
  },
  {
   "cell_type": "code",
   "execution_count": 17,
   "metadata": {},
   "outputs": [
    {
     "name": "stdout",
     "output_type": "stream",
     "text": [
      "-1.7734375\n"
     ]
    }
   ],
   "source": [
    "# Метод деления отрезка пополам\n",
    "def halving_method(a: float, b: float, eps: float, F: Callable) -> float:\n",
    "    a0 = a\n",
    "    b0 = b\n",
    "    while True:\n",
    "        x = a0 + abs(b0 - a0) / 2\n",
    "        if F(a0) * F(x) < 0:\n",
    "            b0 = x\n",
    "        else:\n",
    "            a0 = x\n",
    "        if b0 - a0 < eps:\n",
    "            return x\n",
    "print(halving_method(a, b, eps, F))"
   ]
  },
  {
   "cell_type": "markdown",
   "metadata": {},
   "source": [
    "# Метод Ньютона"
   ]
  },
  {
   "cell_type": "code",
   "execution_count": 18,
   "metadata": {},
   "outputs": [],
   "source": [
    "F1 = lambda x: 3 * x ** 2 - 2\n",
    "F2 = lambda x: 6 * x"
   ]
  },
  {
   "cell_type": "code",
   "execution_count": 19,
   "metadata": {},
   "outputs": [
    {
     "name": "stdout",
     "output_type": "stream",
     "text": [
      "True\n",
      "False\n"
     ]
    }
   ],
   "source": [
    "# Поиск начального приближения в методе Ньютона\n",
    "print(F(a) * F2(a) > 0)\n",
    "print(F(b) * F2(b) > 0)"
   ]
  },
  {
   "cell_type": "code",
   "execution_count": 20,
   "metadata": {},
   "outputs": [
    {
     "name": "stdout",
     "output_type": "stream",
     "text": [
      "-1.769292662905941\n"
     ]
    }
   ],
   "source": [
    "# Метод Ньюотна\n",
    "def newtons_method(x: float, eps: float, F: Callable, F1: Callable) -> float:\n",
    "    x0 = x\n",
    "    while True:\n",
    "        x1 = x0 - F(x0) / F1(x0)\n",
    "        if abs(x0 - x1) < eps:\n",
    "            return x1\n",
    "        x0 = x1\n",
    "print(newtons_method(a, eps, F, F1))"
   ]
  },
  {
   "cell_type": "markdown",
   "metadata": {},
   "source": [
    "# Метод простой итерации"
   ]
  },
  {
   "cell_type": "markdown",
   "metadata": {},
   "source": [
    "$|1 - F'(x_0)/M| < 1$ - условие сходимости метода простой итерации.\n",
    "1. Если $x_0 = -2$, получим следующее соотношение: $|1 - 10/M| < 1 \\Rightarrow M > 5$\n",
    "2. Если $x_0 = -1$, получим следующее соотношение: $|1 - 1/M| < 1 \\Rightarrow M > 0.5$"
   ]
  },
  {
   "cell_type": "code",
   "execution_count": 21,
   "metadata": {},
   "outputs": [],
   "source": [
    "M1 = 6\n",
    "M2 = 2"
   ]
  },
  {
   "cell_type": "code",
   "execution_count": 22,
   "metadata": {},
   "outputs": [
    {
     "name": "stdout",
     "output_type": "stream",
     "text": [
      "-1.7701132033196032\n",
      "-1.7637297718571423\n"
     ]
    }
   ],
   "source": [
    "def simple_iteration_method(x: float, M: float, eps: float, F: Callable) -> float:\n",
    "    x0 = x\n",
    "    while True:\n",
    "        x1 = x0 - F(x0) / M\n",
    "        if abs(x0 - x1) < eps:\n",
    "            return x1\n",
    "        x0 = x1\n",
    "print(simple_iteration_method(a, M1, eps, F))\n",
    "print(simple_iteration_method(b, M2, eps, F))"
   ]
  }
 ],
 "metadata": {
  "kernelspec": {
   "display_name": "venv",
   "language": "python",
   "name": "python3"
  },
  "language_info": {
   "codemirror_mode": {
    "name": "ipython",
    "version": 3
   },
   "file_extension": ".py",
   "mimetype": "text/x-python",
   "name": "python",
   "nbconvert_exporter": "python",
   "pygments_lexer": "ipython3",
   "version": "3.10.11"
  },
  "orig_nbformat": 4
 },
 "nbformat": 4,
 "nbformat_minor": 2
}
