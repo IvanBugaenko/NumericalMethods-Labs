{
 "cells": [
  {
   "cell_type": "code",
   "execution_count": 2,
   "metadata": {},
   "outputs": [],
   "source": [
    "from pathlib import Path\n",
    "import os\n",
    "import sys\n",
    "\n",
    "sys.path.append(str(Path(os.getcwd()).parent))"
   ]
  },
  {
   "cell_type": "code",
   "execution_count": 3,
   "metadata": {},
   "outputs": [],
   "source": [
    "import numpy as np\n",
    "from scipy.optimize import minimize"
   ]
  },
  {
   "cell_type": "code",
   "execution_count": 4,
   "metadata": {},
   "outputs": [],
   "source": [
    "def f(x: np.ndarray) -> float:\n",
    "    return x[0] ** 2 - x[1] ** 2"
   ]
  },
  {
   "cell_type": "code",
   "execution_count": 5,
   "metadata": {},
   "outputs": [],
   "source": [
    "def g(x: np.ndarray) -> float:\n",
    "    return 2 * x[0] - x[1] - 2"
   ]
  },
  {
   "cell_type": "code",
   "execution_count": 6,
   "metadata": {},
   "outputs": [
    {
     "ename": "SyntaxError",
     "evalue": "incomplete input (263006921.py, line 2)",
     "output_type": "error",
     "traceback": [
      "\u001b[1;36m  Cell \u001b[1;32mIn[6], line 2\u001b[1;36m\u001b[0m\n\u001b[1;33m    \u001b[0m\n\u001b[1;37m    ^\u001b[0m\n\u001b[1;31mSyntaxError\u001b[0m\u001b[1;31m:\u001b[0m incomplete input\n"
     ]
    }
   ],
   "source": [
    "def Lagrange_multiplier_method():\n",
    "    "
   ]
  },
  {
   "cell_type": "code",
   "execution_count": 7,
   "metadata": {},
   "outputs": [
    {
     "name": "stdout",
     "output_type": "stream",
     "text": [
      "Анализируемая функция f  для переменных x,y :\n",
      " f=  x**2 + 9*x + y**2 + 6*y\n",
      "Ограничения:  x + y - 150 =0\n",
      "Вспомогательная функция Лагранжа :\n",
      "  w*(x + y - 150) + x**2 + 9*x + y**2 + 6*y\n",
      "df/dx = w + 2*x + 9 =0\n",
      "df/dy = w + 2*y + 6 =0\n",
      "df/dw = x + y - 150 =0\n",
      "Стационарная точка M(x,y) :\n",
      " 74.25 , 75.75\n"
     ]
    }
   ],
   "source": [
    "from sympy import *\n",
    "x,y,w=symbols(' x y w' )\n",
    "g=9*x+x**2+6*y+y**2\n",
    "print('Анализируемая функция f  для переменных x,y :\\n f= ', g)\n",
    "q=x+y-150\n",
    "print('Ограничения: ', q,'=0')\n",
    "f=9*x+x**2+6*y+y**2+w*(x+y-150)\n",
    "print('Вспомогательная функция Лагранжа :\\n ',f)\n",
    "fx=f.diff(x)\n",
    "print('df/dx =',fx,'=0')\n",
    "fy=f.diff(y)\n",
    "print('df/dy =',fy,'=0')\n",
    "fw=f.diff(w)\n",
    "print('df/dw =',fw,'=0')\n",
    "sols=solve([fx,fy,fw],x,y,w)\n",
    "print('Стационарная точка M(x,y) :\\n',float(sols[x]),',',float(sols[y]))"
   ]
  }
 ],
 "metadata": {
  "kernelspec": {
   "display_name": "venv",
   "language": "python",
   "name": "python3"
  },
  "language_info": {
   "codemirror_mode": {
    "name": "ipython",
    "version": 3
   },
   "file_extension": ".py",
   "mimetype": "text/x-python",
   "name": "python",
   "nbconvert_exporter": "python",
   "pygments_lexer": "ipython3",
   "version": "3.10.11"
  },
  "orig_nbformat": 4
 },
 "nbformat": 4,
 "nbformat_minor": 2
}
