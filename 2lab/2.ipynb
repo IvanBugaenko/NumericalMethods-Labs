{
 "cells": [
  {
   "cell_type": "code",
   "execution_count": 2,
   "metadata": {},
   "outputs": [],
   "source": [
    "from pathlib import Path\n",
    "import os\n",
    "import sys\n",
    "\n",
    "sys.path.append(str(Path(os.getcwd()).parent))"
   ]
  },
  {
   "cell_type": "code",
   "execution_count": 3,
   "metadata": {},
   "outputs": [],
   "source": [
    "import numpy as np\n",
    "from scipy.optimize import minimize"
   ]
  },
  {
   "cell_type": "code",
   "execution_count": 4,
   "metadata": {},
   "outputs": [],
   "source": [
    "def f(x: np.ndarray) -> float:\n",
    "    return 20 - (x[0] - 1) * np.exp(1 - x[0]) - (x[1] - 2) * np.exp(2 - x[0])"
   ]
  },
  {
   "cell_type": "code",
   "execution_count": 5,
   "metadata": {},
   "outputs": [],
   "source": [
    "def f_1d(x: np.ndarray, s: np.ndarray) -> float:\n",
    "\n",
    "    def f_alpha(alpha: float) -> float:\n",
    "        return 20 - (x[0] + alpha * s[0] - 1) * np.exp(1 - x[0] - alpha * s[0]) - (x[1] + alpha * s[1] - 2) * np.exp(2 - x[0] - alpha * s[0])\n",
    "    \n",
    "    return minimize(f_alpha, 0).x[0]"
   ]
  },
  {
   "cell_type": "code",
   "execution_count": 6,
   "metadata": {},
   "outputs": [
    {
     "name": "stdout",
     "output_type": "stream",
     "text": [
      "[-1.02680415e+03  5.76051978e+10]\n"
     ]
    },
    {
     "name": "stderr",
     "output_type": "stream",
     "text": [
      "C:\\Users\\bugae\\AppData\\Local\\Temp\\ipykernel_5440\\2667548435.py:4: RuntimeWarning: overflow encountered in exp\n",
      "  return 20 - (x[0] + alpha * s[0] - 1) * np.exp(1 - x[0] - alpha * s[0]) - (x[1] + alpha * s[1] - 2) * np.exp(2 - x[0] - alpha * s[0])\n",
      "C:\\Users\\bugae\\AppData\\Local\\Temp\\ipykernel_5440\\2667548435.py:4: RuntimeWarning: invalid value encountered in subtract\n",
      "  return 20 - (x[0] + alpha * s[0] - 1) * np.exp(1 - x[0] - alpha * s[0]) - (x[1] + alpha * s[1] - 2) * np.exp(2 - x[0] - alpha * s[0])\n",
      "C:\\Users\\bugae\\AppData\\Local\\Temp\\ipykernel_5440\\2667548435.py:4: RuntimeWarning: overflow encountered in exp\n",
      "  return 20 - (x[0] + alpha * s[0] - 1) * np.exp(1 - x[0] - alpha * s[0]) - (x[1] + alpha * s[1] - 2) * np.exp(2 - x[0] - alpha * s[0])\n",
      "C:\\Users\\bugae\\AppData\\Local\\Temp\\ipykernel_5440\\2667548435.py:4: RuntimeWarning: invalid value encountered in subtract\n",
      "  return 20 - (x[0] + alpha * s[0] - 1) * np.exp(1 - x[0] - alpha * s[0]) - (x[1] + alpha * s[1] - 2) * np.exp(2 - x[0] - alpha * s[0])\n",
      "C:\\Users\\bugae\\AppData\\Local\\Temp\\ipykernel_5440\\2667548435.py:4: RuntimeWarning: overflow encountered in exp\n",
      "  return 20 - (x[0] + alpha * s[0] - 1) * np.exp(1 - x[0] - alpha * s[0]) - (x[1] + alpha * s[1] - 2) * np.exp(2 - x[0] - alpha * s[0])\n",
      "C:\\Users\\bugae\\AppData\\Local\\Temp\\ipykernel_5440\\2667548435.py:4: RuntimeWarning: invalid value encountered in subtract\n",
      "  return 20 - (x[0] + alpha * s[0] - 1) * np.exp(1 - x[0] - alpha * s[0]) - (x[1] + alpha * s[1] - 2) * np.exp(2 - x[0] - alpha * s[0])\n"
     ]
    }
   ],
   "source": [
    "# Циклический покоординатный спуск\n",
    "\n",
    "def cyclic_coordinate_descent(x: np.ndarray, S: np.ndarray, eps: float, return_alphas=False) -> np.ndarray:\n",
    "\n",
    "    alphas = []\n",
    "\n",
    "    x_1 = x\n",
    "\n",
    "    while True:\n",
    "        y_1: np.ndarray = x_1\n",
    "\n",
    "        for s in S:\n",
    "            alpha = f_1d(y_1, s)\n",
    "            y_1 = y_1 + s * alpha\n",
    "            alphas.append(alpha)\n",
    "\n",
    "        if np.linalg.norm(x_1 - y_1) <= eps:\n",
    "            return (y_1, np.array(alphas)) if return_alphas else y_1\n",
    "        \n",
    "        x_1 = y_1\n",
    "\n",
    "\n",
    "print(cyclic_coordinate_descent(\n",
    "    np.array([0, 0]), np.array([[1, 0], [0, 1]]), 0.1\n",
    "    )\n",
    ")"
   ]
  },
  {
   "cell_type": "code",
   "execution_count": 7,
   "metadata": {},
   "outputs": [],
   "source": [
    "def gradient(x: np.ndarray) -> np.ndarray:\n",
    "\n",
    "    df_dx = -2 * np.exp(1 - x[0]) + x[0] * np.exp(1 - x[0]) + x[1] * np.exp(2 - x[0]) - 2 * np.exp(2 - x[0])\n",
    "    df_dy = - np.exp(2 - x[0])\n",
    "    \n",
    "    return(np.array([df_dx, df_dy]))"
   ]
  },
  {
   "cell_type": "code",
   "execution_count": 8,
   "metadata": {},
   "outputs": [
    {
     "name": "stderr",
     "output_type": "stream",
     "text": [
      "C:\\Users\\bugae\\AppData\\Local\\Temp\\ipykernel_5440\\2667548435.py:4: RuntimeWarning: overflow encountered in exp\n",
      "  return 20 - (x[0] + alpha * s[0] - 1) * np.exp(1 - x[0] - alpha * s[0]) - (x[1] + alpha * s[1] - 2) * np.exp(2 - x[0] - alpha * s[0])\n",
      "C:\\Users\\bugae\\AppData\\Local\\Temp\\ipykernel_5440\\2667548435.py:4: RuntimeWarning: invalid value encountered in subtract\n",
      "  return 20 - (x[0] + alpha * s[0] - 1) * np.exp(1 - x[0] - alpha * s[0]) - (x[1] + alpha * s[1] - 2) * np.exp(2 - x[0] - alpha * s[0])\n",
      "C:\\Users\\bugae\\AppData\\Local\\Temp\\ipykernel_5440\\2667548435.py:4: RuntimeWarning: overflow encountered in exp\n",
      "  return 20 - (x[0] + alpha * s[0] - 1) * np.exp(1 - x[0] - alpha * s[0]) - (x[1] + alpha * s[1] - 2) * np.exp(2 - x[0] - alpha * s[0])\n",
      "C:\\Users\\bugae\\AppData\\Local\\Temp\\ipykernel_5440\\2667548435.py:4: RuntimeWarning: invalid value encountered in subtract\n",
      "  return 20 - (x[0] + alpha * s[0] - 1) * np.exp(1 - x[0] - alpha * s[0]) - (x[1] + alpha * s[1] - 2) * np.exp(2 - x[0] - alpha * s[0])\n"
     ]
    },
    {
     "name": "stdout",
     "output_type": "stream",
     "text": [
      "[-72.01382595 104.88303447]\n"
     ]
    }
   ],
   "source": [
    "# Наискорейший спуск\n",
    "def steepest_descent(x: np.ndarray, eps: float, iterations=100000) -> np.ndarray:\n",
    "\n",
    "    x_1 = x\n",
    "    i = 1\n",
    "\n",
    "    while True:\n",
    "\n",
    "        grad = gradient(x_1)\n",
    "\n",
    "        if np.abs(np.linalg.norm(grad)) <= eps or i >= iterations:\n",
    "            return x_1\n",
    "        \n",
    "        x_1 = x_1 - grad * f_1d(x_1, -1 * grad)\n",
    "        i += 1\n",
    "\n",
    "\n",
    "print(steepest_descent(np.array([1, 1]), 0.1))"
   ]
  },
  {
   "cell_type": "code",
   "execution_count": 9,
   "metadata": {},
   "outputs": [
    {
     "name": "stdout",
     "output_type": "stream",
     "text": [
      "[-1.06965138e+06  7.74695074e+09]\n"
     ]
    },
    {
     "name": "stderr",
     "output_type": "stream",
     "text": [
      "C:\\Users\\bugae\\AppData\\Local\\Temp\\ipykernel_5440\\2667548435.py:4: RuntimeWarning: overflow encountered in exp\n",
      "  return 20 - (x[0] + alpha * s[0] - 1) * np.exp(1 - x[0] - alpha * s[0]) - (x[1] + alpha * s[1] - 2) * np.exp(2 - x[0] - alpha * s[0])\n",
      "C:\\Users\\bugae\\AppData\\Local\\Temp\\ipykernel_5440\\2667548435.py:4: RuntimeWarning: invalid value encountered in subtract\n",
      "  return 20 - (x[0] + alpha * s[0] - 1) * np.exp(1 - x[0] - alpha * s[0]) - (x[1] + alpha * s[1] - 2) * np.exp(2 - x[0] - alpha * s[0])\n",
      "C:\\Users\\bugae\\AppData\\Local\\Temp\\ipykernel_5440\\2667548435.py:4: RuntimeWarning: overflow encountered in exp\n",
      "  return 20 - (x[0] + alpha * s[0] - 1) * np.exp(1 - x[0] - alpha * s[0]) - (x[1] + alpha * s[1] - 2) * np.exp(2 - x[0] - alpha * s[0])\n",
      "C:\\Users\\bugae\\AppData\\Local\\Temp\\ipykernel_5440\\2667548435.py:4: RuntimeWarning: invalid value encountered in subtract\n",
      "  return 20 - (x[0] + alpha * s[0] - 1) * np.exp(1 - x[0] - alpha * s[0]) - (x[1] + alpha * s[1] - 2) * np.exp(2 - x[0] - alpha * s[0])\n",
      "C:\\Users\\bugae\\AppData\\Local\\Temp\\ipykernel_5440\\2667548435.py:4: RuntimeWarning: overflow encountered in exp\n",
      "  return 20 - (x[0] + alpha * s[0] - 1) * np.exp(1 - x[0] - alpha * s[0]) - (x[1] + alpha * s[1] - 2) * np.exp(2 - x[0] - alpha * s[0])\n",
      "C:\\Users\\bugae\\AppData\\Local\\Temp\\ipykernel_5440\\2667548435.py:4: RuntimeWarning: invalid value encountered in subtract\n",
      "  return 20 - (x[0] + alpha * s[0] - 1) * np.exp(1 - x[0] - alpha * s[0]) - (x[1] + alpha * s[1] - 2) * np.exp(2 - x[0] - alpha * s[0])\n",
      "C:\\Users\\bugae\\AppData\\Local\\Temp\\ipykernel_5440\\2667548435.py:4: RuntimeWarning: overflow encountered in exp\n",
      "  return 20 - (x[0] + alpha * s[0] - 1) * np.exp(1 - x[0] - alpha * s[0]) - (x[1] + alpha * s[1] - 2) * np.exp(2 - x[0] - alpha * s[0])\n",
      "C:\\Users\\bugae\\AppData\\Local\\Temp\\ipykernel_5440\\2667548435.py:4: RuntimeWarning: invalid value encountered in subtract\n",
      "  return 20 - (x[0] + alpha * s[0] - 1) * np.exp(1 - x[0] - alpha * s[0]) - (x[1] + alpha * s[1] - 2) * np.exp(2 - x[0] - alpha * s[0])\n",
      "C:\\Users\\bugae\\AppData\\Local\\Temp\\ipykernel_5440\\2667548435.py:4: RuntimeWarning: overflow encountered in exp\n",
      "  return 20 - (x[0] + alpha * s[0] - 1) * np.exp(1 - x[0] - alpha * s[0]) - (x[1] + alpha * s[1] - 2) * np.exp(2 - x[0] - alpha * s[0])\n",
      "C:\\Users\\bugae\\AppData\\Local\\Temp\\ipykernel_5440\\2667548435.py:4: RuntimeWarning: invalid value encountered in subtract\n",
      "  return 20 - (x[0] + alpha * s[0] - 1) * np.exp(1 - x[0] - alpha * s[0]) - (x[1] + alpha * s[1] - 2) * np.exp(2 - x[0] - alpha * s[0])\n"
     ]
    }
   ],
   "source": [
    "# Метод Хука и Дживса\n",
    "\n",
    "def hooke_jeeves(x: np.ndarray, S: np.ndarray, eps: float) -> np.ndarray:\n",
    "\n",
    "    x_1 = x\n",
    "\n",
    "    while True:\n",
    "        y_1: np.ndarray = x_1\n",
    "\n",
    "        for s in S:\n",
    "            y_1 = y_1 + s * f_1d(y_1, s)\n",
    "\n",
    "        speed = y_1 - x_1\n",
    "\n",
    "        new = x_1 + speed * f_1d(x_1, speed)\n",
    "\n",
    "        if np.linalg.norm(x_1 - new) <= eps:\n",
    "            return new\n",
    "        \n",
    "        x_1 = new\n",
    "\n",
    "\n",
    "print(hooke_jeeves(\n",
    "    np.array([0, 0]), np.array([[1, 0], [0, 1]]), 0.1\n",
    "))"
   ]
  },
  {
   "cell_type": "code",
   "execution_count": 11,
   "metadata": {},
   "outputs": [
    {
     "name": "stdout",
     "output_type": "stream",
     "text": [
      "[-1.02680415e+03  5.76051978e+10]\n"
     ]
    },
    {
     "name": "stderr",
     "output_type": "stream",
     "text": [
      "C:\\Users\\bugae\\AppData\\Local\\Temp\\ipykernel_5440\\2667548435.py:4: RuntimeWarning: overflow encountered in exp\n",
      "  return 20 - (x[0] + alpha * s[0] - 1) * np.exp(1 - x[0] - alpha * s[0]) - (x[1] + alpha * s[1] - 2) * np.exp(2 - x[0] - alpha * s[0])\n",
      "C:\\Users\\bugae\\AppData\\Local\\Temp\\ipykernel_5440\\2667548435.py:4: RuntimeWarning: invalid value encountered in subtract\n",
      "  return 20 - (x[0] + alpha * s[0] - 1) * np.exp(1 - x[0] - alpha * s[0]) - (x[1] + alpha * s[1] - 2) * np.exp(2 - x[0] - alpha * s[0])\n",
      "C:\\Users\\bugae\\AppData\\Local\\Temp\\ipykernel_5440\\2667548435.py:4: RuntimeWarning: overflow encountered in exp\n",
      "  return 20 - (x[0] + alpha * s[0] - 1) * np.exp(1 - x[0] - alpha * s[0]) - (x[1] + alpha * s[1] - 2) * np.exp(2 - x[0] - alpha * s[0])\n",
      "C:\\Users\\bugae\\AppData\\Local\\Temp\\ipykernel_5440\\2667548435.py:4: RuntimeWarning: invalid value encountered in subtract\n",
      "  return 20 - (x[0] + alpha * s[0] - 1) * np.exp(1 - x[0] - alpha * s[0]) - (x[1] + alpha * s[1] - 2) * np.exp(2 - x[0] - alpha * s[0])\n",
      "C:\\Users\\bugae\\AppData\\Local\\Temp\\ipykernel_5440\\2667548435.py:4: RuntimeWarning: overflow encountered in exp\n",
      "  return 20 - (x[0] + alpha * s[0] - 1) * np.exp(1 - x[0] - alpha * s[0]) - (x[1] + alpha * s[1] - 2) * np.exp(2 - x[0] - alpha * s[0])\n",
      "C:\\Users\\bugae\\AppData\\Local\\Temp\\ipykernel_5440\\2667548435.py:4: RuntimeWarning: invalid value encountered in subtract\n",
      "  return 20 - (x[0] + alpha * s[0] - 1) * np.exp(1 - x[0] - alpha * s[0]) - (x[1] + alpha * s[1] - 2) * np.exp(2 - x[0] - alpha * s[0])\n"
     ]
    }
   ],
   "source": [
    "# метод Розенброка\n",
    "\n",
    "def rosenbrock(x: np.ndarray, S: np.ndarray, eps: float) -> np.ndarray:\n",
    "    \n",
    "    orthogonal_vectors = S\n",
    "    n = len(orthogonal_vectors)\n",
    "\n",
    "    x_1 = x\n",
    "\n",
    "    while True:\n",
    "        x_2, alphas = cyclic_coordinate_descent(x_1, orthogonal_vectors, eps, return_alphas=True)\n",
    "\n",
    "        z = []\n",
    "        s = []\n",
    "\n",
    "        for j in range(n):\n",
    "            if abs(alphas[j]) == 0:\n",
    "                z.append(orthogonal_vectors[j])\n",
    "            else:\n",
    "                linear_combination = np.zeros(n)\n",
    "                for i in range(j, n):\n",
    "                    linear_combination += alphas[i] * orthogonal_vectors[i]\n",
    "                z.append(linear_combination)\n",
    "\n",
    "        for j in range(n):\n",
    "            if j == 1:\n",
    "                s.append(z[j] * (1 / np.linalg.norm(z[j])))\n",
    "            else:\n",
    "                linear_combination = np.zeros(n)\n",
    "                for i in range(j - 1):\n",
    "                    linear_combination += s[i] * (s[i].dot(z[j]))\n",
    "                g = z[j] - linear_combination\n",
    "                s.append(g / np.linalg.norm(g))\n",
    "\n",
    "\n",
    "        orthogonal_vectors = np.array(s)\n",
    "\n",
    "        if np.linalg.norm(x_1 - x_2) <= eps:\n",
    "            return x_2\n",
    "\n",
    "        x_1 = x_2\n",
    "        \n",
    "        \n",
    "print(rosenbrock(\n",
    "    np.array([0, 0]), np.array([[1, 0], [0, 1]]), 0.1\n",
    "))      \n",
    "        "
   ]
  }
 ],
 "metadata": {
  "kernelspec": {
   "display_name": "venv",
   "language": "python",
   "name": "python3"
  },
  "language_info": {
   "codemirror_mode": {
    "name": "ipython",
    "version": 3
   },
   "file_extension": ".py",
   "mimetype": "text/x-python",
   "name": "python",
   "nbconvert_exporter": "python",
   "pygments_lexer": "ipython3",
   "version": "3.10.11"
  },
  "orig_nbformat": 4,
  "vscode": {
   "interpreter": {
    "hash": "d60bdb3ca83555117e006482d4e580906152f22af13030ba0ea6bafe32ad4cef"
   }
  }
 },
 "nbformat": 4,
 "nbformat_minor": 2
}
