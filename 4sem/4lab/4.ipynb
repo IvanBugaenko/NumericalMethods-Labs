{
 "cells": [
  {
   "cell_type": "code",
   "execution_count": 19,
   "metadata": {},
   "outputs": [],
   "source": [
    "from pathlib import Path\n",
    "import os\n",
    "import sys\n",
    "\n",
    "sys.path.append(str(Path(os.getcwd()).parent))"
   ]
  },
  {
   "cell_type": "code",
   "execution_count": 20,
   "metadata": {},
   "outputs": [],
   "source": [
    "import numpy as np\n",
    "from scipy.optimize import minimize, NonlinearConstraint"
   ]
  },
  {
   "cell_type": "code",
   "execution_count": 21,
   "metadata": {},
   "outputs": [],
   "source": [
    "def f(x: np.ndarray) -> float:\n",
    "    return x[0] ** 2 + x[1] ** 2 + 4 * x[1] - 1"
   ]
  },
  {
   "cell_type": "code",
   "execution_count": 22,
   "metadata": {},
   "outputs": [],
   "source": [
    "def g1(x: np.ndarray) -> float:\n",
    "    return x[0] ** 2 + x[1]\n",
    "\n",
    "\n",
    "def g2(x: np.ndarray) -> float:\n",
    "    return x[0] - 2 * x[1] - 8"
   ]
  },
  {
   "cell_type": "code",
   "execution_count": 23,
   "metadata": {},
   "outputs": [],
   "source": [
    "def opt_penalty_function(x: np.ndarray, mu: float) -> np.ndarray:\n",
    "    def foo(y: np.ndarray) -> float:\n",
    "        \n",
    "        return f(y) + mu * (\n",
    "            (max(0, g1(y))) ** 2 + \n",
    "            (max(0, g2(y))) ** 2\n",
    "        )\n",
    "    \n",
    "    opt = minimize(foo, x).x\n",
    "    \n",
    "    return opt, foo(opt)"
   ]
  },
  {
   "cell_type": "code",
   "execution_count": 24,
   "metadata": {},
   "outputs": [],
   "source": [
    "def opt_barrier_function(x: np.ndarray, mu: float) -> np.ndarray:\n",
    "    def foo(y: np.ndarray) -> float:\n",
    "        \n",
    "        return f(y) - mu * (\n",
    "            (1 / g1(y)) + (1 / g2(y))\n",
    "        )\n",
    "    \n",
    "    opt = minimize(foo, x, constraints=(\n",
    "        NonlinearConstraint(g1, -np.inf, -1e-7),\n",
    "        NonlinearConstraint(g2, -np.inf, -1e-7))).x\n",
    "    \n",
    "    return opt, foo(opt)"
   ]
  },
  {
   "cell_type": "code",
   "execution_count": 25,
   "metadata": {},
   "outputs": [],
   "source": [
    "START = np.array([0.5, -1.5])\n",
    "EPS = 0.05\n",
    "MU = 0.001\n",
    "BETA_1 = 10\n",
    "BETA_2 = 0.4"
   ]
  },
  {
   "cell_type": "code",
   "execution_count": 26,
   "metadata": {},
   "outputs": [
    {
     "name": "stdout",
     "output_type": "stream",
     "text": [
      "[-1.46311152e-09 -2.00000000e+00]\n"
     ]
    }
   ],
   "source": [
    "def penalty_function_method(x: np.ndarray, eps: float, mu: float, beta: float) -> np.ndarray:\n",
    "    x_1 = x\n",
    "    mu_1 = mu\n",
    "\n",
    "    while True:\n",
    "        x_1, penalty = opt_penalty_function(x_1, mu_1)\n",
    "\n",
    "        if mu_1 * penalty < eps:\n",
    "            return x_1\n",
    "        \n",
    "        mu_1 *= beta\n",
    "\n",
    "\n",
    "print(penalty_function_method(START, EPS, MU, BETA_1))        "
   ]
  },
  {
   "cell_type": "code",
   "execution_count": 27,
   "metadata": {},
   "outputs": [
    {
     "name": "stdout",
     "output_type": "stream",
     "text": [
      "[-1.10074961e-04 -2.00003605e+00]\n"
     ]
    }
   ],
   "source": [
    "def barrier_function_method(x: np.ndarray, eps: float, mu: float, beta: float) -> np.ndarray:\n",
    "    x_1 = x\n",
    "    mu_1 = mu\n",
    "\n",
    "    while True:\n",
    "        x_1, barrier = opt_barrier_function(x_1, mu_1)\n",
    "\n",
    "        if mu_1 * barrier < eps:\n",
    "            return x_1\n",
    "        \n",
    "        mu_1 *= beta\n",
    "\n",
    "\n",
    "print(barrier_function_method(START, EPS, MU, BETA_2))"
   ]
  }
 ],
 "metadata": {
  "kernelspec": {
   "display_name": "venv",
   "language": "python",
   "name": "python3"
  },
  "language_info": {
   "codemirror_mode": {
    "name": "ipython",
    "version": 3
   },
   "file_extension": ".py",
   "mimetype": "text/x-python",
   "name": "python",
   "nbconvert_exporter": "python",
   "pygments_lexer": "ipython3",
   "version": "3.10.11"
  },
  "orig_nbformat": 4
 },
 "nbformat": 4,
 "nbformat_minor": 2
}
