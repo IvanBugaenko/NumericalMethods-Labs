{
 "cells": [
  {
   "cell_type": "code",
   "execution_count": 3,
   "metadata": {},
   "outputs": [],
   "source": [
    "import numpy as np"
   ]
  },
  {
   "cell_type": "markdown",
   "metadata": {},
   "source": [
    "Пусть $x^{(0)} = (1, 0)$ $-$ начальное приближение итерационного процесса.\n",
    "\n",
    "$F' = \\left[\\begin{array}{ccc}\n",
    "\\frac{\\partial f_1}{\\partial x_1} & \\frac{\\partial f_1}{\\partial x_2}\\\\\n",
    "\\frac{\\partial f_2}{\\partial x_1} & \\frac{\\partial f_2}{\\partial x_2}\n",
    "\\end{array}\\right] = \\left[\\begin{array}{ccc}\n",
    "1 - \\frac{2}{M_1} & -\\frac{1}{M_1}cos(x_2)\\\\\n",
    "\\frac{1}{M_2}sin(x_1 - 1) & 1 - \\frac{1}{M_2}\n",
    "\\end{array}\\right], f_i = x_i - \\frac{1}{M_i}F(x)$\n",
    "\n",
    "Достаточные условия:\n",
    "\n",
    "$\\begin{cases}\n",
    "   |1 - \\frac{2}{M_1}| + |\\frac{1}{M_1}cos(x_2)| < 1\\\\\n",
    "   |\\frac{1}{M_2}sin(x_1 - 1)| + |1 - \\frac{1}{M_2}| < 1\n",
    "\\end{cases}$\n",
    "\n",
    "$\\begin{cases}\n",
    "   |1 - \\frac{2}{M_1}| + |\\frac{1}{M_1}cos(0)| < 1\\\\\n",
    "   |\\frac{1}{M_2}sin(1 - 1)| + |1 - \\frac{1}{M_2}| < 1\n",
    "\\end{cases}$\n",
    "\n",
    "$\\begin{cases}\n",
    "   |1 - \\frac{2}{M_1}| + |\\frac{1}{M_1}cos(0)| < 1\\\\\n",
    "   |\\frac{1}{M_2}sin(0)| + |1 - \\frac{1}{M_2}| < 1\n",
    "\\end{cases}$\n",
    "\n",
    "$\\begin{cases}\n",
    "   |1 - \\frac{2}{M_1}| + |\\frac{1}{M_1}| < 1\\\\\n",
    "   |1 - \\frac{1}{M_2}| < 1\n",
    "\\end{cases}$\n",
    "\n",
    "$\\begin{cases}\n",
    "   M_1 > \\frac{3}{2}\\\\\n",
    "   M_2 > \\frac{1}{2}\n",
    "\\end{cases}$\n",
    "\n",
    "Получаем значения $M = (2, 1)$, которые удовлетворяют условиям"
   ]
  },
  {
   "cell_type": "code",
   "execution_count": 7,
   "metadata": {},
   "outputs": [],
   "source": [
    "EPS = 0.001\n",
    "X = np.array([1, 0])\n",
    "M = np.array([2, 1])"
   ]
  },
  {
   "cell_type": "code",
   "execution_count": 107,
   "metadata": {},
   "outputs": [],
   "source": [
    "def F0(x: np.ndarray) -> float:\n",
    "    return np.sin(x[1]) + 2 * x[0] - 2\n",
    "\n",
    "def F1(x: np.ndarray) -> float:\n",
    "    return np.cos(x[0] - 1) + x[1] - 0.7"
   ]
  },
  {
   "cell_type": "code",
   "execution_count": 108,
   "metadata": {},
   "outputs": [],
   "source": [
    "def f0(x: np.ndarray, M: float) -> float:\n",
    "    return x[0] - F0(x) / M\n",
    "\n",
    "def f1(x: np.ndarray, M: float) -> float:\n",
    "    return x[1] - F1(x) / M"
   ]
  },
  {
   "cell_type": "markdown",
   "metadata": {},
   "source": [
    "## 1. Метод Якоби (простой итерации)"
   ]
  },
  {
   "cell_type": "code",
   "execution_count": 110,
   "metadata": {},
   "outputs": [
    {
     "name": "stdout",
     "output_type": "stream",
     "text": [
      "[ 1.14254644 -0.28985745]\n",
      "F0(x*) = -0.0007227476745150785, F1(x*) = 0.0\n"
     ]
    }
   ],
   "source": [
    "def jacobi_method(x: np.ndarray, M: np.ndarray, eps: float, kmax: int = 100) -> np.ndarray:\n",
    "    x0 = x\n",
    "    k = 0\n",
    "    while True:\n",
    "        x1 = np.array([f0(x0, M[0]), f1(x0, M[1])])\n",
    "        if np.linalg.norm(x1 - x0) < eps or k == kmax:\n",
    "            return x1\n",
    "        x0 = x1\n",
    "        k += 1\n",
    "\n",
    "print(i:=jacobi_method(X, M, EPS))\n",
    "print(f'F0(x*) = {F0(i)}, F1(x*) = {F1(i)}')"
   ]
  },
  {
   "cell_type": "markdown",
   "metadata": {},
   "source": [
    "## 2. Метод Зейделя"
   ]
  },
  {
   "cell_type": "code",
   "execution_count": 112,
   "metadata": {},
   "outputs": [
    {
     "name": "stdout",
     "output_type": "stream",
     "text": [
      "[ 1.14290781 -0.28980605]\n",
      "F0(x*) = 4.9258997067092025e-05, F1(x*) = 0.0\n"
     ]
    }
   ],
   "source": [
    "def seidel_method(x: np.ndarray, M: np.ndarray, eps: float, kmax: int = 100) -> np.ndarray:\n",
    "    x0 = x\n",
    "    k = 0\n",
    "    while True:\n",
    "        x1 = np.array([temp:=f0(x0, M[0]), f1(np.array([temp, x0[1]]), M[1])])\n",
    "        if np.linalg.norm(x1 - x0) < eps or k == kmax:\n",
    "            return x1\n",
    "        x0 = x1\n",
    "        k += 1\n",
    "\n",
    "print(i:=seidel_method(X, M, EPS))\n",
    "print(f'F0(x*) = {F0(i)}, F1(x*) = {F1(i)}')"
   ]
  },
  {
   "cell_type": "markdown",
   "metadata": {},
   "source": [
    "## 3. Метод Ньютона"
   ]
  },
  {
   "cell_type": "code",
   "execution_count": 100,
   "metadata": {},
   "outputs": [],
   "source": [
    "def coef(x: np.ndarray) -> np.ndarray:\n",
    "    return np.array([\n",
    "        [2, np.cos(x[1])],\n",
    "        [-np.sin(x[0] - 1), 1]\n",
    "    ])"
   ]
  },
  {
   "cell_type": "code",
   "execution_count": 102,
   "metadata": {},
   "outputs": [
    {
     "name": "stdout",
     "output_type": "stream",
     "text": [
      "[ 1.14288476 -0.28980933]\n",
      "F0(x*) = 0.0, F1(x*) = 0.0\n"
     ]
    }
   ],
   "source": [
    "def newton_method(x: np.ndarray, kmax: int = 100) -> np.ndarray:\n",
    "    x0 = x\n",
    "    k = 0\n",
    "    while True:\n",
    "        delta_x = np.linalg.solve(coef(x0), -np.array([F0(x0), F1(x0)]))\n",
    "        x0 += delta_x\n",
    "        if k == kmax:\n",
    "            return x0\n",
    "        k += 1\n",
    "\n",
    "print(i:=newton_method(np.array([-1, -0.7])))\n",
    "print(f'F0(x*) = {F0(i)}, F1(x*) = {F1(i)}')"
   ]
  }
 ],
 "metadata": {
  "kernelspec": {
   "display_name": "venv",
   "language": "python",
   "name": "python3"
  },
  "language_info": {
   "codemirror_mode": {
    "name": "ipython",
    "version": 3
   },
   "file_extension": ".py",
   "mimetype": "text/x-python",
   "name": "python",
   "nbconvert_exporter": "python",
   "pygments_lexer": "ipython3",
   "version": "3.10.11"
  }
 },
 "nbformat": 4,
 "nbformat_minor": 2
}
