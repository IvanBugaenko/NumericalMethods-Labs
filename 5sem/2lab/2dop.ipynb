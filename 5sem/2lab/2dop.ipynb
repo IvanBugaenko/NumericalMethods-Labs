{
 "cells": [
  {
   "cell_type": "code",
   "execution_count": 3,
   "metadata": {},
   "outputs": [],
   "source": [
    "import numpy as np\n",
    "from typing import Callable"
   ]
  },
  {
   "cell_type": "code",
   "execution_count": 2,
   "metadata": {},
   "outputs": [],
   "source": [
    "F = lambda x: x ** 3 - 2 * x + 2"
   ]
  },
  {
   "cell_type": "code",
   "execution_count": 6,
   "metadata": {},
   "outputs": [],
   "source": [
    "eps = 0.01\n",
    "a = -2\n",
    "b = -1\n",
    "h = 0.1"
   ]
  },
  {
   "cell_type": "code",
   "execution_count": 7,
   "metadata": {},
   "outputs": [
    {
     "name": "stdout",
     "output_type": "stream",
     "text": [
      "-1.769377108475284\n"
     ]
    }
   ],
   "source": [
    "def newtons_method(x: float, eps: float, h: float, F: Callable) -> float:\n",
    "    x0 = x\n",
    "    while True:\n",
    "        x1 = x0 - (F(x0) * h) / (F(x0 + h) - F(x0))\n",
    "        if abs(x0 - x1) < eps:\n",
    "            return x1\n",
    "        x0 = x1\n",
    "print(newtons_method(a, eps, h, F))"
   ]
  },
  {
   "cell_type": "code",
   "execution_count": 10,
   "metadata": {},
   "outputs": [
    {
     "name": "stdout",
     "output_type": "stream",
     "text": [
      "-1.7694369808649686\n"
     ]
    }
   ],
   "source": [
    "def steffensen_method(x: float, eps: float, F: Callable):\n",
    "    x0 = x\n",
    "    while True:\n",
    "        x1 = x0 - F(x0) ** 2 / (F(x0 + F(x0)) - F(x0))\n",
    "        if abs(x0 - x1) < eps:\n",
    "            return x1\n",
    "        x0 = x1\n",
    "\n",
    "print(steffensen_method(a, eps, F))"
   ]
  }
 ],
 "metadata": {
  "kernelspec": {
   "display_name": "venv",
   "language": "python",
   "name": "python3"
  },
  "language_info": {
   "codemirror_mode": {
    "name": "ipython",
    "version": 3
   },
   "file_extension": ".py",
   "mimetype": "text/x-python",
   "name": "python",
   "nbconvert_exporter": "python",
   "pygments_lexer": "ipython3",
   "version": "3.10.11"
  },
  "orig_nbformat": 4
 },
 "nbformat": 4,
 "nbformat_minor": 2
}
