{
 "cells": [
  {
   "cell_type": "code",
   "execution_count": 25,
   "metadata": {},
   "outputs": [],
   "source": [
    "from pathlib import Path\n",
    "import os\n",
    "import sys\n",
    "\n",
    "sys.path.append(str(Path(os.getcwd()).parent))"
   ]
  },
  {
   "cell_type": "code",
   "execution_count": 26,
   "metadata": {},
   "outputs": [],
   "source": [
    "import numpy as np\n",
    "from  scipy.optimize import minimize, Bounds"
   ]
  },
  {
   "cell_type": "code",
   "execution_count": 46,
   "metadata": {},
   "outputs": [],
   "source": [
    "def f(x: np.array) -> float:\n",
    "    return 20 - (x[0] - 1) * np.exp(1 - x[0]) - (x[1] - 2) * np.exp(2 - x[0])"
   ]
  },
  {
   "cell_type": "code",
   "execution_count": 33,
   "metadata": {},
   "outputs": [],
   "source": [
    "def f_1d(x: np.array, s: np.array) -> float:\n",
    "\n",
    "    def f_alpha(alpha: float) -> float:\n",
    "        return 20 - (x[0] + alpha * s[0] - 1) * np.exp(1 - x[0] - alpha * s[0]) - (x[1] + alpha * s[1] - 2) * np.exp(2 - x[0] - alpha * s[0])\n",
    "    \n",
    "    return minimize(f_alpha, 1, bounds=Bounds(0, np.inf)).x[0]"
   ]
  },
  {
   "cell_type": "code",
   "execution_count": 36,
   "metadata": {},
   "outputs": [
    {
     "name": "stdout",
     "output_type": "stream",
     "text": [
      "[7.43455663e+00 8.75706331e+18]\n"
     ]
    }
   ],
   "source": [
    "# Циклический покоординатный спуск\n",
    "\n",
    "def cyclic_coordinate_descent(x: np.array, eps: float) -> np.array:\n",
    "    S = np.array([[1, 0], [0, 1]])\n",
    "\n",
    "    x_1 = x\n",
    "\n",
    "    while True:\n",
    "        y_1: np.array = x_1\n",
    "\n",
    "        for s in S:\n",
    "            y_1 = y_1 + s * f_1d(y_1, s)\n",
    "\n",
    "        if np.linalg.norm(x_1 - y_1) <= eps:\n",
    "            return y_1\n",
    "        \n",
    "        x_1 = y_1\n",
    "\n",
    "\n",
    "print(cyclic_coordinate_descent(np.array([0, 0]), 0.1))"
   ]
  },
  {
   "cell_type": "code",
   "execution_count": 53,
   "metadata": {},
   "outputs": [],
   "source": [
    "def gradient(x: np.array) -> np.array:\n",
    "    df_dx = -2 * np.exp(1 - x[0]) + x[0] * np.exp(1 - x[0]) + x[1] * np.exp(2 - x[0]) - 2 * np.exp(2 - x[0])\n",
    "    df_dy = - np.exp(2 - x[0])\n",
    "    return(np.array([df_dx, df_dy]))"
   ]
  },
  {
   "cell_type": "code",
   "execution_count": 62,
   "metadata": {},
   "outputs": [
    {
     "name": "stdout",
     "output_type": "stream",
     "text": [
      "[-20.21467585  -7.3890561 ] 0.0\n"
     ]
    }
   ],
   "source": [
    "# Наискорейший спуск\n",
    "def steepest_descent(x: np.array, eps: float) -> np.array:\n",
    "    x_1 = x\n",
    "    i = 1\n",
    "    while True:\n",
    "        if np.abs(np.linalg.norm(gradient(x_1))) <= eps or i >= 10000:\n",
    "            return x_1\n",
    "        \n",
    "        x_1 = x_1 + gradient(x_1) * f_1d(x_1, gradient(x_1))\n",
    "        i += 1\n",
    "\n",
    "\n",
    "# print(steepest_descent(np.array([0, 0]), 0.1))\n",
    "\n",
    "print(gradient(np.array([0, 0])), f_1d(np.array([0, 0]), gradient(np.array([0, 0]))))"
   ]
  }
 ],
 "metadata": {
  "kernelspec": {
   "display_name": "venv",
   "language": "python",
   "name": "python3"
  },
  "language_info": {
   "codemirror_mode": {
    "name": "ipython",
    "version": 3
   },
   "file_extension": ".py",
   "mimetype": "text/x-python",
   "name": "python",
   "nbconvert_exporter": "python",
   "pygments_lexer": "ipython3",
   "version": "3.10.10"
  },
  "orig_nbformat": 4
 },
 "nbformat": 4,
 "nbformat_minor": 2
}
