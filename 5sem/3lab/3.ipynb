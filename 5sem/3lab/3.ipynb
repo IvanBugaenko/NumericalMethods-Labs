{
 "cells": [
  {
   "cell_type": "code",
   "execution_count": 1,
   "metadata": {},
   "outputs": [],
   "source": [
    "import numpy as np"
   ]
  },
  {
   "cell_type": "code",
   "execution_count": 2,
   "metadata": {},
   "outputs": [],
   "source": [
    "A = np.array([\n",
    "    [1, -1, 2, -1],\n",
    "    [2, 0, 3, 1],\n",
    "    [1, 1, 3, -1],\n",
    "    [2, 1, 5, -2]\n",
    "], dtype=np.float32)\n",
    "\n",
    "b = np.array([1, 4, 2, 3])"
   ]
  },
  {
   "cell_type": "markdown",
   "metadata": {},
   "source": [
    "# 1. Метод Гаусса"
   ]
  },
  {
   "cell_type": "code",
   "execution_count": 3,
   "metadata": {},
   "outputs": [],
   "source": [
    "def triangle_view(matrix: np.ndarray, eps: float = 1e-7) -> np.ndarray:\n",
    "    A = matrix.copy()\n",
    "    N = A.shape[0]\n",
    "    for i in range(N - 1):\n",
    "        if abs(A[i, i]) < eps:\n",
    "            for k in range(i + 1, N):\n",
    "                if abs(A[k, i]) > eps:\n",
    "                    A[i], A[k] = A[k], A[i]\n",
    "                    break\n",
    "        for j in range(i + 1, N):\n",
    "            d = A[j, i] / A[i, i]\n",
    "            A[j] -= d * A[i]\n",
    "    return A\n"
   ]
  },
  {
   "cell_type": "markdown",
   "metadata": {},
   "source": [
    "Формула вычисления корней: $$x_i = \\frac{1}{a_{ii}}(b_i - \\sum\\limits_{j=0}^{n - i - 1}{a_{in-j} \\cdot x_{n-j}})$$"
   ]
  },
  {
   "cell_type": "code",
   "execution_count": 4,
   "metadata": {},
   "outputs": [],
   "source": [
    "def get_roots(A: np.ndarray, b: np.ndarray) -> np.ndarray:\n",
    "    n = b.shape[0]\n",
    "    roots = np.zeros(n)\n",
    "    roots[n - 1] += b[n - 1] / A[n - 1, n - 1]\n",
    "    for i in range(n - 2, -1, -1):\n",
    "        m = 0\n",
    "        for j in range(n - i):\n",
    "            m += A[i, n - j - 1] * roots[n - j - 1]\n",
    "        roots[i] += (b[i] - m) / A[i, i]\n",
    "    return roots"
   ]
  },
  {
   "cell_type": "code",
   "execution_count": 5,
   "metadata": {},
   "outputs": [
    {
     "data": {
      "text/plain": [
       "array([0., 0., 1., 1.])"
      ]
     },
     "execution_count": 5,
     "metadata": {},
     "output_type": "execute_result"
    }
   ],
   "source": [
    "def gauss_method(A: np.ndarray, b: np.ndarray, eps: float = 1e-7) -> np.ndarray:\n",
    "    forward_pass = triangle_view(np.c_[A, b], eps)\n",
    "    return get_roots(forward_pass[:, :-1], forward_pass[:, -1])\n",
    "\n",
    "gauss_method(A, b)"
   ]
  },
  {
   "cell_type": "markdown",
   "metadata": {},
   "source": [
    "# 2. Метод обратной матрицы"
   ]
  },
  {
   "cell_type": "code",
   "execution_count": 6,
   "metadata": {},
   "outputs": [
    {
     "data": {
      "text/plain": [
       "array([ 0., -0.,  1.,  1.])"
      ]
     },
     "execution_count": 6,
     "metadata": {},
     "output_type": "execute_result"
    }
   ],
   "source": [
    "def inverse_matrix_method(A: np.ndarray, b: np.ndarray) -> np.ndarray:\n",
    "    return np.linalg.inv(A) @ b\n",
    "\n",
    "\n",
    "np.around(inverse_matrix_method(A, b))"
   ]
  },
  {
   "cell_type": "markdown",
   "metadata": {},
   "source": [
    "# 3. Метод прогонки"
   ]
  },
  {
   "cell_type": "code",
   "execution_count": 7,
   "metadata": {},
   "outputs": [],
   "source": [
    "matrix = np.array([\n",
    "    [0, 3, 1, 5],\n",
    "    [1, 2, 1, 6],\n",
    "    [3, 9, 6, 25],\n",
    "    [2, 4, 0, 5]\n",
    "])"
   ]
  },
  {
   "cell_type": "code",
   "execution_count": 8,
   "metadata": {},
   "outputs": [
    {
     "name": "stdout",
     "output_type": "stream",
     "text": [
      "1) Решение: [1.26190476 1.21428571 2.30952381 0.0952381 ]\n",
      "2) Невязка: [-0.  0.  0.  0.]\n"
     ]
    }
   ],
   "source": [
    "def sweep_method(matrix: np.ndarray) -> np.ndarray:\n",
    "    n = matrix.shape[0]\n",
    "    U = [-matrix[0, 2]/matrix[0, 1]]\n",
    "    V = [matrix[0, 3]/matrix[0, 1]]\n",
    "    for i in range(1, n):\n",
    "        U.append(-matrix[i, 2]/(matrix[i, 0] * U[i - 1] + matrix[i, 1]))\n",
    "        V.append((matrix[i, 3] - matrix[i, 0] * V[i - 1])/(matrix[i, 0] * U[i - 1] + matrix[i, 1]))\n",
    "    X = np.zeros(n)\n",
    "    X[-1] += V[-1]\n",
    "    for i in range(n - 2, -1, -1):\n",
    "        X[i] += U[i] * X[i + 1] + V[i]\n",
    "    R = np.zeros(n)\n",
    "    R[0] += matrix[0, 3] - matrix[0, 1] * X[0] - matrix[0, 2] * X[1]\n",
    "    R[-1] += matrix[-1, 3] - matrix[-1, 0] * X[-2] - matrix[-1, 1] * X[-1]\n",
    "    for i in range(1, n - 1):\n",
    "        R[i] += matrix[i, 3] - matrix[i, 0] * X[i - 1] - matrix[i, 1] * X[i] - matrix[i, 2] * X[i + 1]\n",
    "    return X, R\n",
    "\n",
    "X, R = sweep_method(matrix)\n",
    "print(f\"1) Решение: {X}\\n2) Невязка: {np.around(R)}\")"
   ]
  },
  {
   "cell_type": "markdown",
   "metadata": {},
   "source": [
    "# 4. Итерационные методы"
   ]
  },
  {
   "cell_type": "code",
   "execution_count": 9,
   "metadata": {},
   "outputs": [],
   "source": [
    "M = np.array([\n",
    "    [3, 1, -1, 1],\n",
    "    [1, -4, 1, -1],\n",
    "    [-1, 1, 4, 1],\n",
    "    [1, 2, 1, -5]\n",
    "])\n",
    "\n",
    "d = np.array([6, -4, 13, 4])"
   ]
  },
  {
   "cell_type": "code",
   "execution_count": 30,
   "metadata": {},
   "outputs": [
    {
     "name": "stdout",
     "output_type": "stream",
     "text": [
      "1) Решение: [2 2 3 1]\n",
      "2) Невязка: [0 0 0 0]\n"
     ]
    }
   ],
   "source": [
    "def jacobi_method(A: np.ndarray, b: np.ndarray, x: np.ndarray, k_max: int = 100) -> np.ndarray:\n",
    "    n = A.shape[1]\n",
    "    x1 = x\n",
    "    x2 = x\n",
    "    k = 0\n",
    "    X = None\n",
    "    while True:\n",
    "        if k == k_max:\n",
    "            X = x2\n",
    "            break\n",
    "\n",
    "        for i in range(n):\n",
    "            s = 0\n",
    "            for j in range(n):\n",
    "                s += A[i, j] * x1[j]\n",
    "            x2[i] = x1[i] + (b[i] - s) / A[i, i]\n",
    "        \n",
    "        x1 = x2\n",
    "\n",
    "        k += 1\n",
    "\n",
    "    return X, b - M @ X\n",
    "\n",
    "\n",
    "X, R = jacobi_method(M, d, np.array([0, 0, 0, 0]))\n",
    "print(f\"1) Решение: {X}\\n2) Невязка: {np.around(R)}\")"
   ]
  },
  {
   "cell_type": "code",
   "execution_count": 31,
   "metadata": {},
   "outputs": [
    {
     "name": "stdout",
     "output_type": "stream",
     "text": [
      "1) Решение: [2 2 3 1]\n",
      "2) Невязка: [0 0 0 0]\n"
     ]
    }
   ],
   "source": [
    "def seidel_method(A: np.ndarray, b: np.ndarray, x: np.ndarray, k_max: int = 100) -> np.ndarray:\n",
    "    n = A.shape[1]\n",
    "    x1 = x\n",
    "    k = 0\n",
    "    X = None\n",
    "    while True:\n",
    "        if k == k_max:\n",
    "            X = x1\n",
    "            break\n",
    "\n",
    "        for i in range(n):\n",
    "            s = 0\n",
    "            for j in range(n):\n",
    "                s += A[i, j] * x1[j]\n",
    "            x1[i] += (b[i] - s) / A[i, i]\n",
    "\n",
    "        k += 1\n",
    "\n",
    "    return X, b - M @ X\n",
    "\n",
    "\n",
    "X, R = seidel_method(M, d, np.array([0, 0, 0, 0]))\n",
    "print(f\"1) Решение: {X}\\n2) Невязка: {np.around(R)}\")"
   ]
  },
  {
   "cell_type": "markdown",
   "metadata": {},
   "source": [
    "# 5. Нахождение собственных чисел матрицы"
   ]
  },
  {
   "cell_type": "code",
   "execution_count": null,
   "metadata": {},
   "outputs": [],
   "source": [
    "def matrix_eigenvalues(A: np.ndarray) -> np.ndarray:\n",
    "    ..."
   ]
  }
 ],
 "metadata": {
  "kernelspec": {
   "display_name": "venv",
   "language": "python",
   "name": "python3"
  },
  "language_info": {
   "codemirror_mode": {
    "name": "ipython",
    "version": 3
   },
   "file_extension": ".py",
   "mimetype": "text/x-python",
   "name": "python",
   "nbconvert_exporter": "python",
   "pygments_lexer": "ipython3",
   "version": "3.10.11"
  },
  "orig_nbformat": 4
 },
 "nbformat": 4,
 "nbformat_minor": 2
}
