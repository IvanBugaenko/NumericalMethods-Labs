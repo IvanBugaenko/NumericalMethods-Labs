{
 "cells": [
  {
   "cell_type": "code",
   "execution_count": 90,
   "metadata": {},
   "outputs": [],
   "source": [
    "import numpy as np\n",
    "import pandas as pd\n",
    "import matplotlib.pyplot as plt"
   ]
  },
  {
   "cell_type": "markdown",
   "metadata": {},
   "source": [
    "# Лабораторная работа № 1\n",
    "## «Проверка гипотезы о законе распределения генеральной совокупности»\n",
    "В результате опыта была получена выборочная совокупность.\n",
    "Задание:\n",
    "1. Составить вариационный ряд.\n",
    "2. Построить интервальный статистический ряд.\n",
    "3. По сгруппированным данным построить полигон относительных частот, гистограмму относительных частот, график эмпирической функции распределения.\n",
    "4. Найти числовые характеристики выборки: выборочное среднее, исправленную выборочную дисперсию, моду, медиану, эксцесс, асимметрию.\n",
    "5. По виду гистограммы и эмпирической функции распределения выборки выдвинуть гипотезу о распределении генеральной совокупности.\n",
    "6. Найти оценки параметров предполагаемого распределения генеральной совокупности.\n",
    "7. Построить на чертеже гистограммы и эмпирической функции её теоретические аналоги f(x) и F(x).\n",
    "8. Проверить выполнение правила «трех сигма».\n",
    "9. Применить критерий согласия Пирсона принять или опровергнуть выдвинутую гипотезу о распределении генеральной совокупности.\n",
    "10. Найти доверительные интервалы для генеральной средней и генерального среднеквадратического отклонения по уровню надежности γ = 0,95."
   ]
  },
  {
   "cell_type": "code",
   "execution_count": 91,
   "metadata": {},
   "outputs": [],
   "source": [
    "data = np.array([\n",
    "    305, 316, 338, 316, 323, 301, 315, \n",
    "    313, 309, 311, 312, 304, 330, 313, \n",
    "    310, 321, 310, 302, 312, 317, 328, \n",
    "    316, 305, 325, 344, 320, 319, 320, \n",
    "    323, 322, 297, 324, 306, 301, 303, \n",
    "    295, 335, 311, 314, 316, 316, 310, \n",
    "    316, 300, 323, 324, 331, 320, 304\n",
    "])"
   ]
  },
  {
   "cell_type": "code",
   "execution_count": 92,
   "metadata": {},
   "outputs": [],
   "source": [
    "n = data.shape[0]"
   ]
  },
  {
   "cell_type": "markdown",
   "metadata": {},
   "source": [
    "### Вариационный ряд"
   ]
  },
  {
   "cell_type": "code",
   "execution_count": 93,
   "metadata": {},
   "outputs": [
    {
     "name": "stdout",
     "output_type": "stream",
     "text": [
      "Вариационный ряд: 295 297 300 301 301 302 303 304 304 305 305 306 309 310 310 310 311 311 312 312 313 313 314 315 316 316 316 316 316 316 317 319 320 320 320 321 322 323 323 323 324 324 325 328 330 331 335 338 344\n"
     ]
    }
   ],
   "source": [
    "var_row = np.array(sorted(data))\n",
    "print('Вариационный ряд:', *var_row)"
   ]
  },
  {
   "cell_type": "markdown",
   "metadata": {},
   "source": [
    "### Построение интервального статистического ряда"
   ]
  },
  {
   "cell_type": "code",
   "execution_count": 94,
   "metadata": {},
   "outputs": [
    {
     "name": "stdout",
     "output_type": "stream",
     "text": [
      "1) Минимальное значение: 295\n",
      "2) Максимальное значение: 344\n",
      " \n"
     ]
    }
   ],
   "source": [
    "x_min = np.min(data)\n",
    "x_max = np.max(data)\n",
    "print(f\"1) Минимальное значение: {x_min}\\n2) Максимальное значение: {x_max}\\n \")"
   ]
  },
  {
   "cell_type": "code",
   "execution_count": 95,
   "metadata": {},
   "outputs": [
    {
     "data": {
      "text/plain": [
       "array([[291., 299.],\n",
       "       [299., 307.],\n",
       "       [307., 315.],\n",
       "       [315., 323.],\n",
       "       [323., 331.],\n",
       "       [331., 339.],\n",
       "       [339., 347.]])"
      ]
     },
     "execution_count": 95,
     "metadata": {},
     "output_type": "execute_result"
    }
   ],
   "source": [
    "k = round(1 + 3.322 * np.log10(n)) # число интервалов\n",
    "h = round((x_max - x_min) / k) + 1 # размер интервала\n",
    "x_0 = x_min - h/2\n",
    "intervals = np.array([np.array([x_0 + i * h, x_0 + (i + 1) * h]) for i in range(k)])\n",
    "intervals"
   ]
  },
  {
   "cell_type": "code",
   "execution_count": 96,
   "metadata": {},
   "outputs": [],
   "source": [
    "freq_row = np.array([var_row[(var_row >= min) & (var_row < max)].shape[0] for min, max in intervals], dtype=np.int8)\n",
    "emp_freq_row = freq_row / data.shape[0]\n",
    "p_hist = emp_freq_row / h"
   ]
  },
  {
   "cell_type": "code",
   "execution_count": 97,
   "metadata": {},
   "outputs": [],
   "source": [
    "df = pd.DataFrame(\n",
    "    np.vstack((freq_row, emp_freq_row, p_hist)), \n",
    "    columns=[\"[291, 299)\", \"[299, 307)\", \"[307, 315)\", \"[315, 323)\", \"[323, 331)\",\"[331, 339)\", \"[339, 347)\"]\n",
    ") \n",
    "df.index = [\"Частота\", \"Эмпирическая частота\", \"Высота гистограммы\"]"
   ]
  },
  {
   "cell_type": "code",
   "execution_count": 98,
   "metadata": {},
   "outputs": [
    {
     "data": {
      "text/html": [
       "<div>\n",
       "<style scoped>\n",
       "    .dataframe tbody tr th:only-of-type {\n",
       "        vertical-align: middle;\n",
       "    }\n",
       "\n",
       "    .dataframe tbody tr th {\n",
       "        vertical-align: top;\n",
       "    }\n",
       "\n",
       "    .dataframe thead th {\n",
       "        text-align: right;\n",
       "    }\n",
       "</style>\n",
       "<table border=\"1\" class=\"dataframe\">\n",
       "  <thead>\n",
       "    <tr style=\"text-align: right;\">\n",
       "      <th></th>\n",
       "      <th>[291, 299)</th>\n",
       "      <th>[299, 307)</th>\n",
       "      <th>[307, 315)</th>\n",
       "      <th>[315, 323)</th>\n",
       "      <th>[323, 331)</th>\n",
       "      <th>[331, 339)</th>\n",
       "      <th>[339, 347)</th>\n",
       "    </tr>\n",
       "  </thead>\n",
       "  <tbody>\n",
       "    <tr>\n",
       "      <th>Частота</th>\n",
       "      <td>2.000000</td>\n",
       "      <td>10.000000</td>\n",
       "      <td>11.000000</td>\n",
       "      <td>14.000000</td>\n",
       "      <td>8.000000</td>\n",
       "      <td>3.000000</td>\n",
       "      <td>1.000000</td>\n",
       "    </tr>\n",
       "    <tr>\n",
       "      <th>Эмпирическая частота</th>\n",
       "      <td>0.040816</td>\n",
       "      <td>0.204082</td>\n",
       "      <td>0.224490</td>\n",
       "      <td>0.285714</td>\n",
       "      <td>0.163265</td>\n",
       "      <td>0.061224</td>\n",
       "      <td>0.020408</td>\n",
       "    </tr>\n",
       "    <tr>\n",
       "      <th>Высота гистограммы</th>\n",
       "      <td>0.005102</td>\n",
       "      <td>0.025510</td>\n",
       "      <td>0.028061</td>\n",
       "      <td>0.035714</td>\n",
       "      <td>0.020408</td>\n",
       "      <td>0.007653</td>\n",
       "      <td>0.002551</td>\n",
       "    </tr>\n",
       "  </tbody>\n",
       "</table>\n",
       "</div>"
      ],
      "text/plain": [
       "                      [291, 299)  [299, 307)  [307, 315)  [315, 323)  \\\n",
       "Частота                 2.000000   10.000000   11.000000   14.000000   \n",
       "Эмпирическая частота    0.040816    0.204082    0.224490    0.285714   \n",
       "Высота гистограммы      0.005102    0.025510    0.028061    0.035714   \n",
       "\n",
       "                      [323, 331)  [331, 339)  [339, 347)  \n",
       "Частота                 8.000000    3.000000    1.000000  \n",
       "Эмпирическая частота    0.163265    0.061224    0.020408  \n",
       "Высота гистограммы      0.020408    0.007653    0.002551  "
      ]
     },
     "execution_count": 98,
     "metadata": {},
     "output_type": "execute_result"
    }
   ],
   "source": [
    "df"
   ]
  },
  {
   "cell_type": "markdown",
   "metadata": {},
   "source": [
    "### Построение графиков"
   ]
  },
  {
   "cell_type": "code",
   "execution_count": 99,
   "metadata": {},
   "outputs": [],
   "source": [
    "mean_row = np.array([np.mean(interval) for interval in intervals])"
   ]
  },
  {
   "cell_type": "code",
   "execution_count": 100,
   "metadata": {},
   "outputs": [
    {
     "data": {
      "text/plain": [
       "[<matplotlib.lines.Line2D at 0x1f6bd105450>]"
      ]
     },
     "execution_count": 100,
     "metadata": {},
     "output_type": "execute_result"
    },
    {
     "data": {
      "image/png": "[encoded data removed]",
      "text/plain": [
       "<Figure size 640x480 with 1 Axes>"
      ]
     },
     "metadata": {},
     "output_type": "display_data"
    }
   ],
   "source": [
    "plt.plot(mean_row, emp_freq_row)"
   ]
  },
  {
   "cell_type": "code",
   "execution_count": 110,
   "metadata": {},
   "outputs": [
    {
     "data": {
      "text/plain": [
       "array([291., 299., 307., 315., 323., 331., 339., 347.])"
      ]
     },
     "execution_count": 110,
     "metadata": {},
     "output_type": "execute_result"
    }
   ],
   "source": []
  },
  {
   "cell_type": "code",
   "execution_count": 112,
   "metadata": {},
   "outputs": [
    {
     "data": {
      "text/plain": [
       "<BarContainer object of 7 artists>"
      ]
     },
     "execution_count": 112,
     "metadata": {},
     "output_type": "execute_result"
    },
    {
     "data": {
      "image/png": "[encoded data removed]",
      "text/plain": [
       "<Figure size 640x480 with 1 Axes>"
      ]
     },
     "metadata": {},
     "output_type": "display_data"
    }
   ],
   "source": [
    "plt.bar(mean_row, p_hist)"
   ]
  }
 ],
 "metadata": {
  "kernelspec": {
   "display_name": "venv",
   "language": "python",
   "name": "python3"
  },
  "language_info": {
   "codemirror_mode": {
    "name": "ipython",
    "version": 3
   },
   "file_extension": ".py",
   "mimetype": "text/x-python",
   "name": "python",
   "nbconvert_exporter": "python",
   "pygments_lexer": "ipython3",
   "version": "3.10.11"
  },
  "orig_nbformat": 4
 },
 "nbformat": 4,
 "nbformat_minor": 2
}
